{
  "nbformat": 4,
  "nbformat_minor": 0,
  "metadata": {
    "colab": {
      "provenance": [],
      "authorship_tag": "ABX9TyMpcaiezgBJ/xjRz7kuZPSJ",
      "include_colab_link": true
    },
    "kernelspec": {
      "name": "python3",
      "display_name": "Python 3"
    },
    "language_info": {
      "name": "python"
    }
  },
  "cells": [
    {
      "cell_type": "markdown",
      "metadata": {
        "id": "view-in-github",
        "colab_type": "text"
      },
      "source": [
        "<a href=\"https://colab.research.google.com/github/jomaldonadob/AlgorithmsUN2022II/blob/main/Lab3/jomaldonadobcognitiveclassaapplieddatadciencewithpython.ipynb\" target=\"_parent\"><img src=\"https://colab.research.google.com/assets/colab-badge.svg\" alt=\"Open In Colab\"/></a>"
      ]
    },
    {
      "cell_type": "markdown",
      "source": [
        "# https://www.linkedin.com/in/jomaldonadob/"
      ],
      "metadata": {
        "id": "cEa2CmuHHBp1"
      }
    },
    {
      "cell_type": "markdown",
      "source": [
        "https://courses.cognitiveclass.ai/certificates/f84100d97fbf45e8a37834080b311a0d"
      ],
      "metadata": {
        "id": "izy8YwbcHFpk"
      }
    },
    {
      "cell_type": "markdown",
      "source": [
        "https://courses.cognitiveclass.ai/certificates/681e7d9b01cd47f385188029fb3b1172"
      ],
      "metadata": {
        "id": "4p8rUd5ZHScj"
      }
    },
    {
      "cell_type": "markdown",
      "source": [
        "https://courses.cognitiveclass.ai/certificates/37c4a53f6dd542c3a373ba71035725b1"
      ],
      "metadata": {
        "id": "KEZak0O3HUVe"
      }
    }
  ]
}