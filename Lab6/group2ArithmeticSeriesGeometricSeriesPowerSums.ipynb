{
  "nbformat": 4,
  "nbformat_minor": 0,
  "metadata": {
    "colab": {
      "provenance": [],
      "include_colab_link": true
    },
    "kernelspec": {
      "name": "python3",
      "display_name": "Python 3"
    }
  },
  "cells": [
    {
      "cell_type": "markdown",
      "metadata": {
        "id": "view-in-github",
        "colab_type": "text"
      },
      "source": [
        "<a href=\"https://colab.research.google.com/github/jomaldonadob/AlgorithmsUN2022II/blob/main/Lab6/group2ArithmeticSeriesGeometricSeriesPowerSums.ipynb\" target=\"_parent\"><img src=\"https://colab.research.google.com/assets/colab-badge.svg\" alt=\"Open In Colab\"/></a>"
      ]
    },
    {
      "cell_type": "markdown",
      "metadata": {
        "id": "r4rXWI4gCN5B"
      },
      "source": [
        "# Arithmetic Series\n",
        "\n",
        "## Modified from Arithmetic Series -  [Wolfram MathWorld](https://mathworld.wolfram.com/ArithmeticSeries.html) - [wikipedia](https://en.wikipedia.org/wiki/Arithmetic_progression)\n",
        "\n",
        "\n",
        "An arithmetic sequence $\\{a_k\\}$ for $k=1, 2, ..., $ in which each term is computed from the previous one by adding (or subtracting) a constant $d$. \n",
        "\n",
        "\\begin{align*}\n",
        "a_1 & \\\\\n",
        "a_2 &\\ \\ =\\ \\ a_1 + d  \\\\\n",
        "a_3 &\\ \\ =\\ \\ a_2 + d \\ \\ =\\ \\ a_1 + 2d   \\\\\n",
        "a_4 &\\ \\ =\\ \\ a_3 + d \\ \\ =\\ \\ a_2 + 2d \\ \\ =\\ \\ a_1 + 3d  \\\\\n",
        "\\vdots\\\\\n",
        "a_k &\\ \\ =\\ \\ a_{(k-1)}+d \\ =\\  a_{(k-2)}+2d \\ =\\  \\ldots \\ =\\  \\ a_1+(k-1)d\n",
        "\\end{align*}\n",
        "\n",
        "Therefore, for $k>=1$,\n",
        "\n",
        "$$ a_k = a_1 + (k-1)d$$\n",
        "\n",
        "With $a_1$ and $d$ given.\n",
        "\n",
        "<br /> \n",
        "\n",
        "The sequence of the partial sum of the first $n$ terms of a sequence is called a series, in the case of an arithemetic sequence the series is called an arithmetic series.\n",
        "\n",
        "If  $a_1= 1$ and $d=1$ we have, the simplest arithmnetic sequence,  the natural numbers sequence $\\{a_k = k \\}$ for  $k=1, 2, ..., $  i.e. the seuqnece\n",
        "$$1, 2, ...,$$\n",
        "The  corresponding series is \n",
        "$$ \n",
        "S_n = 1 + 2+ \\ldots + (n-1)+ n = \\sum_{k=1}^n k\n",
        "$$\n",
        "can be calculated as a function of $n$.\n",
        "\n",
        "Assume that we allign one $S_{n-1}$ with a second  $S_{n-1}$ that have the terms adden reverse order and you add term to term, we have\n",
        "\\begin{array}{llclclclclc}\n",
        "  S_{n-1} &=& 1 &+& 2 &+& \\ldots &+& (n-2) &+& (n-1) \\\\\n",
        "  S_{n-1} &=& (n-1)  &+& (n-2)  &+& \\ldots   &+& 2   &+& 1 \\\\\n",
        "   \\hline \\\\\n",
        "   2S_{n-1} &=& n  &+& n  &+& \\ldots   &+& n   &+& n \\\\\n",
        "\\end{array}\n",
        "so\n",
        "$$  2S_{n-1} = (n-1)n $$\n",
        "then\n",
        "$$  S_{n-1} = \\frac{1}{2} (n-1)n$$\n",
        "therefore \n",
        "$$  S_{n} = \\frac{1}{2} n(n+1)$$\n",
        "\n",
        "\n",
        "\\begin{align*}\n",
        "S_n &= \\sum_{k=1}^n a_k\t\\\\\n",
        "    &= \\sum_{k=1}^n[a_1+(k-1)d]\t\t\\\\\n",
        "    &= na_1 + d \\sum_{k=1}^n(k-1)\t\\\\\n",
        "    &= na_1 + d \\sum_{k=0}^{n-1} k\t\\\\\n",
        "    &= na_1 + d \\sum_{k=1}^{n-1} k\t\\\\\n",
        "    &= na_1 +  \\frac{1}{2} d(n-1)n\\\\\n",
        "\\end{align*}\n",
        "so \n",
        "$$ S_n =  \\frac{1}{2} n[2 a_1 +d(n-1)].$$\n",
        "\n",
        "Note, however, that\n",
        "$$a_1+a_n=a_1+[a_1+d(n-1)]=2a_1+d(n-1),$$ \t\n",
        "so\n",
        "$$S_n = \\frac{1}{2}n(a_1+a_n),$$\n",
        "\n",
        "\n",
        "or $n$ times the arithmetic mean of the first and last terms! This is the trick Gauss used as a schoolboy to solve the problem of summing the integers from $1$ to $100$ given as busy-work by his teacher. While his classmates toiled away doing the addition longhand, Gauss wrote a single number, the correct answer\n",
        "\n",
        "$$\\frac{1}{2}(100)(1+100)=50·101=5050$$ \t\n",
        "on his slate (Burton 1989, pp. 80-81; Hoffman 1998, p. 207). When the answers were examined, Gauss's proved to be the only correct one.\n",
        "\n",
        "<br /> \n",
        "\n",
        "If  the sequence starts at index $0$, $\\{a_k\\}$ for $ k=0, 1, 2, ..., $ we have\n",
        "\n",
        "\\begin{align*}\n",
        "a_0 & \\\\\n",
        "a_1 &\\ \\ =\\ \\ a_0 + d  \\\\\n",
        "a_2 &\\ \\ =\\ \\ a_1 + d \\ \\ =\\ \\ a_0 + 2d   \\\\\n",
        "a_3 &\\ \\ =\\ \\ a_2 + d \\ \\ =\\ \\ a_1 + 2d \\ \\ =\\ \\ a_0 + 3d  \\\\\n",
        "\\vdots\\\\\n",
        "a_k &\\ \\ =\\ \\ a_{(k-1)}+d \\ =\\  a_{(k-2)}+2d \\ =\\  \\ldots \\ = \\  \\ a_1+(k-1)d \\ \\ =\\ \\ a_0+kd\n",
        "\\end{align*}\n",
        "\n",
        "<br /> \n",
        "for given   $a_0$ and $d$.\n",
        "\n",
        "In this case the sum of the terms between $0$ and $n$ of  the arithemnetic sequence  is then given by\n",
        "\\begin{align*}\n",
        "S_n &= \\sum_{k=0}^{n} a_k\t\\\\\n",
        "    &= \\sum_{k=0}^{n}[a_0+kd]\t\t\\\\\n",
        "    &= (n+1) a_0 + d \\sum_{k=0}^{n} k\t\\\\\n",
        "    &= (n+1) a_0 + d \\sum_{k=1}^{} k\t\\\\\n",
        "    &=(n+1) a_0+  \\frac{1}{2} dn(n+1) \\\\\n",
        "\\end{align*}\n",
        "so \n",
        "$$ S_n =  \\frac{1}{2} (n+1)[2 a_0 + dn].$$\n",
        "<br /> \n",
        "$$ S_n =  \\frac{1}{2} (n+1)[a_0+ a_n].$$\n",
        "\n",
        "\n"
      ]
    },
    {
      "cell_type": "markdown",
      "metadata": {
        "id": "GfBh-QHRcods"
      },
      "source": [
        "### Code\n",
        "####  The simplest arithmetic sequence and series\n",
        "\n",
        "The simplest arithmnetic sequence is \n",
        "\n",
        "\n",
        "$$a_n = 1, 2, ...,$$"
      ]
    },
    {
      "cell_type": "markdown",
      "metadata": {
        "id": "n36eWqEXiktl"
      },
      "source": [
        "The following code plots the first $n = 15$ terms of the simplest arithmnetic sequence \n",
        "$$\\{a_n = n\\} \\text{ for } n =1,2,\\ldots  $$\n",
        "i.e\n",
        "$$\\{a_n = n\\} =1,2,\\ldots $$\n",
        "adn the corresponding terms of the simplest arithmnetic series \n",
        "$$  S_n = 1 + 2+ \\ldots + (n-1)+ n = \\sum_{k=1}^n k=  \\frac{1}{2} n(n+1)$$\n"
      ]
    },
    {
      "cell_type": "markdown",
      "metadata": {
        "id": "_VyGiunIZknK"
      },
      "source": [
        "Plot"
      ]
    },
    {
      "cell_type": "code",
      "metadata": {
        "colab": {
          "base_uri": "https://localhost:8080/",
          "height": 283
        },
        "id": "gx3Q4uo-ONCi",
        "outputId": "ace8323e-31ff-4467-c720-739b33b2557b"
      },
      "source": [
        "import matplotlib.pyplot as plt\n",
        "\n",
        "n = 15\n",
        "S_n = 0\n",
        "Serie_S_n=[]\n",
        "Sequence_a_n =[]\n",
        "for i in range(1,n+1):\n",
        "  S_n = S_n + i\n",
        "  Serie_S_n.append(S_n)\n",
        "  Sequence_a_n.append(i)\n",
        " \n",
        "\n",
        "plt.plot(Serie_S_n, color='black',label='Serie_S_n')\n",
        "plt.plot(Sequence_a_n, color='red',label='Sequence_a_n')\n",
        "plt.legend()\n",
        "\n",
        "\n"
      ],
      "execution_count": null,
      "outputs": [
        {
          "output_type": "execute_result",
          "data": {
            "text/plain": [
              "<matplotlib.legend.Legend at 0x7effd5d0dd50>"
            ]
          },
          "metadata": {},
          "execution_count": 5
        },
        {
          "output_type": "display_data",
          "data": {
            "image/png": "[encoded data removed]",
            "text/plain": [
              "<Figure size 432x288 with 1 Axes>"
            ]
          },
          "metadata": {
            "needs_background": "light"
          }
        }
      ]
    },
    {
      "cell_type": "code",
      "metadata": {
        "colab": {
          "base_uri": "https://localhost:8080/"
        },
        "id": "o2es6b4cysQk",
        "outputId": "2d8875c7-e4c1-49cc-9b38-028475c5f19f"
      },
      "source": [
        "Sequence_a_n"
      ],
      "execution_count": null,
      "outputs": [
        {
          "output_type": "execute_result",
          "data": {
            "text/plain": [
              "[1, 2, 3, 4, 5, 6, 7, 8, 9, 10, 11, 12, 13, 14, 15]"
            ]
          },
          "metadata": {
            "tags": []
          },
          "execution_count": 12
        }
      ]
    },
    {
      "cell_type": "code",
      "metadata": {
        "colab": {
          "base_uri": "https://localhost:8080/"
        },
        "id": "T2VeBOBZ0ibg",
        "outputId": "daaf6544-5edd-4843-a485-505e1a06a3f7"
      },
      "source": [
        "Serie_S_n"
      ],
      "execution_count": null,
      "outputs": [
        {
          "output_type": "execute_result",
          "data": {
            "text/plain": [
              "[1, 3, 6, 10, 15, 21, 28, 36, 45, 55, 66, 78, 91, 105, 120]"
            ]
          },
          "metadata": {
            "tags": []
          },
          "execution_count": 14
        }
      ]
    },
    {
      "cell_type": "markdown",
      "metadata": {
        "id": "0ybfJdHxZGvW"
      },
      "source": [
        "The following code computes the  $n=10000000$  term of the airthmetic series\n",
        "$$  S_n = 1 + 2+ \\ldots + (n-1)+ n = \\sum_{k=1}^n =  \\frac{1}{2} n(n+1)$$"
      ]
    },
    {
      "cell_type": "code",
      "metadata": {
        "colab": {
          "base_uri": "https://localhost:8080/"
        },
        "id": "99xYHDQycnol",
        "outputId": "a21e2f92-385a-4cea-910f-7e32bafd11e4"
      },
      "source": [
        "n = 10000000\n",
        "S_n = 0\n",
        "for i in range(1,n+1):  # range(n+1) goes form 1 to n\n",
        "  S_n = S_n + i \n",
        "print(S_n)"
      ],
      "execution_count": null,
      "outputs": [
        {
          "output_type": "stream",
          "text": [
            "50000005000000\n"
          ],
          "name": "stdout"
        }
      ]
    },
    {
      "cell_type": "code",
      "metadata": {
        "colab": {
          "base_uri": "https://localhost:8080/"
        },
        "id": "RGCSuDGHeFwH",
        "outputId": "e1d60652-ce77-4933-a4dc-fa178257f349"
      },
      "source": [
        "(1/2)*n*(n+1)"
      ],
      "execution_count": null,
      "outputs": [
        {
          "output_type": "execute_result",
          "data": {
            "text/plain": [
              "50000005000000.0"
            ]
          },
          "metadata": {
            "tags": []
          },
          "execution_count": 8
        }
      ]
    },
    {
      "cell_type": "markdown",
      "metadata": {
        "id": "bg8zxAhcecpk"
      },
      "source": [
        "The following code computes the $n=10000000$ term of the airthmetic series \n",
        "$$ S_n  = \\sum_{k=1}^n a_k$$\n",
        "\n",
        "<br /> \n",
        "for the airthmetic sequence $a_k = 10 + 3 (k-1) $ for $k=1,2,\\ldots$\n",
        "\n",
        "<br /> \n",
        "$$ 10,13,16,19,21,\\ldots$$\n"
      ]
    },
    {
      "cell_type": "markdown",
      "metadata": {
        "id": "hg3ixQ3bZiVh"
      },
      "source": [
        "Plot"
      ]
    },
    {
      "cell_type": "code",
      "metadata": {
        "colab": {
          "base_uri": "https://localhost:8080/"
        },
        "id": "w8FP1XqSgnie",
        "outputId": "4a81915d-b3b6-4089-cb05-5a46b03ba87f"
      },
      "source": [
        "n = 10000000\n",
        "a = 10\n",
        "d = 3\n",
        "S_n = 0\n",
        "for i in range(1,n+1):  # range(n+19 goes form 1 to n\n",
        "  a_n = a + d * (i-1) \n",
        "  S_n = S_n + a_n\n",
        "print(S_n)"
      ],
      "execution_count": null,
      "outputs": [
        {
          "output_type": "stream",
          "text": [
            "150000085000000\n"
          ],
          "name": "stdout"
        }
      ]
    },
    {
      "cell_type": "code",
      "metadata": {
        "colab": {
          "base_uri": "https://localhost:8080/"
        },
        "id": "g_38RfB_hgg2",
        "outputId": "088f349a-3f72-4e5d-b977-30b61ddcbb25"
      },
      "source": [
        "n*(2*a +d*(n-1))/2"
      ],
      "execution_count": null,
      "outputs": [
        {
          "output_type": "execute_result",
          "data": {
            "text/plain": [
              "150000085000000.0"
            ]
          },
          "metadata": {
            "tags": []
          },
          "execution_count": 25
        }
      ]
    },
    {
      "cell_type": "code",
      "metadata": {
        "colab": {
          "base_uri": "https://localhost:8080/"
        },
        "id": "zS3qb_xE1u58",
        "outputId": "3a90e3cb-788b-49cc-db02-6b53b4d092d9"
      },
      "source": [
        "n*(a +a_n)/2"
      ],
      "execution_count": null,
      "outputs": [
        {
          "output_type": "execute_result",
          "data": {
            "text/plain": [
              "150000085000000.0"
            ]
          },
          "metadata": {
            "tags": []
          },
          "execution_count": 26
        }
      ]
    },
    {
      "cell_type": "code",
      "metadata": {
        "colab": {
          "base_uri": "https://localhost:8080/",
          "height": 285
        },
        "id": "7qesKez70zub",
        "outputId": "cd0c0a7a-936e-417d-8653-5aa6c817d4c1"
      },
      "source": [
        "import matplotlib.pyplot as plt\n",
        "\n",
        "n = 20\n",
        "a = 10\n",
        "d = 3\n",
        "S_n = 0\n",
        "Serie_S_n=[]\n",
        "Sequence_a_n =[]\n",
        "for i in range(1,n+1):  # range(n+19 goes form 1 to n\n",
        "  a_n = a + d * (i-1) \n",
        "  S_n = S_n + a_n\n",
        "  Serie_S_n.append(S_n)\n",
        "  Sequence_a_n.append(a_n)\n",
        "\n",
        "plt.plot(Serie_S_n, color='black',label='Serie_S_n')\n",
        "plt.plot(Sequence_a_n, color='red',label='Sequence_a_n')\n",
        "plt.legend()"
      ],
      "execution_count": null,
      "outputs": [
        {
          "output_type": "execute_result",
          "data": {
            "text/plain": [
              "<matplotlib.legend.Legend at 0x7f4135d81d10>"
            ]
          },
          "metadata": {
            "tags": []
          },
          "execution_count": 22
        },
        {
          "output_type": "display_data",
          "data": {
            "image/png": "[encoded data removed]",
            "text/plain": [
              "<Figure size 432x288 with 1 Axes>"
            ]
          },
          "metadata": {
            "tags": [],
            "needs_background": "light"
          }
        }
      ]
    },
    {
      "cell_type": "markdown",
      "metadata": {
        "id": "r9qzONSlZq2q"
      },
      "source": [
        "## Your own example of arithmetic series "
      ]
    },
    {
      "cell_type": "markdown",
      "source": [
        "**Example 1 of arithmetic series**"
      ],
      "metadata": {
        "id": "qqRwIbNScY8N"
      }
    },
    {
      "cell_type": "markdown",
      "source": [
        "De la Sucesión Aritmética { 5, 9, 13, 17,… } obtener la suma de los primeros 20 términos."
      ],
      "metadata": {
        "id": "Ir2nMAbpcT3u"
      }
    },
    {
      "cell_type": "code",
      "source": [
        "n = 20\n",
        "a = 5\n",
        "d = 4\n",
        "S_n = 0\n",
        "for i in range(1,n+1):  \n",
        "  a_n = a + d * (i-1) \n",
        "  S_n = S_n + a_n\n",
        "print(S_n)"
      ],
      "metadata": {
        "colab": {
          "base_uri": "https://localhost:8080/"
        },
        "id": "G6CmYDkMcYLo",
        "outputId": "b31ea2a9-8abb-4536-b099-95c35d908fcb"
      },
      "execution_count": null,
      "outputs": [
        {
          "output_type": "stream",
          "name": "stdout",
          "text": [
            "860\n"
          ]
        }
      ]
    },
    {
      "cell_type": "code",
      "source": [
        "n*(a +a_n)/2"
      ],
      "metadata": {
        "colab": {
          "base_uri": "https://localhost:8080/"
        },
        "id": "_sm4rvTaeLd2",
        "outputId": "65c419f1-0586-4683-8fb4-ac207581bd6a"
      },
      "execution_count": null,
      "outputs": [
        {
          "output_type": "execute_result",
          "data": {
            "text/plain": [
              "860.0"
            ]
          },
          "metadata": {},
          "execution_count": 2
        }
      ]
    },
    {
      "cell_type": "code",
      "source": [
        "n*(2*a +d*(n-1))/2"
      ],
      "metadata": {
        "colab": {
          "base_uri": "https://localhost:8080/"
        },
        "id": "ipABPDGUePj-",
        "outputId": "f513626d-b805-4baa-bd59-d0ddced68866"
      },
      "execution_count": null,
      "outputs": [
        {
          "output_type": "execute_result",
          "data": {
            "text/plain": [
              "860.0"
            ]
          },
          "metadata": {},
          "execution_count": 3
        }
      ]
    },
    {
      "cell_type": "code",
      "source": [
        "import matplotlib.pyplot as plt\n",
        "\n",
        "n = 20\n",
        "a = 5\n",
        "d = 4\n",
        "S_n = 0\n",
        "Serie_S_n=[]\n",
        "Sequence_a_n =[]\n",
        "for i in range(1,n+1):  # range(n+19 goes form 1 to n\n",
        "  a_n = a + d * (i-1) \n",
        "  S_n = S_n + a_n\n",
        "  Serie_S_n.append(S_n)\n",
        "  Sequence_a_n.append(a_n)\n",
        "\n",
        "plt.plot(Serie_S_n, color='black',label='Serie_S_n')\n",
        "plt.plot(Sequence_a_n, color='red',label='Sequence_a_n')\n",
        "plt.legend()"
      ],
      "metadata": {
        "colab": {
          "base_uri": "https://localhost:8080/",
          "height": 283
        },
        "id": "Gzi1DAMpee4V",
        "outputId": "2294444f-3076-4c1d-c4be-9f2b8456a9d4"
      },
      "execution_count": null,
      "outputs": [
        {
          "output_type": "execute_result",
          "data": {
            "text/plain": [
              "<matplotlib.legend.Legend at 0x7f1d2d3799d0>"
            ]
          },
          "metadata": {},
          "execution_count": 4
        },
        {
          "output_type": "display_data",
          "data": {
            "text/plain": [
              "<Figure size 432x288 with 1 Axes>"
            ],
            "image/png": "[encoded data removed]"
          },
          "metadata": {
            "needs_background": "light"
          }
        }
      ]
    },
    {
      "cell_type": "markdown",
      "source": [
        "**Example 2 of arithmetic series**"
      ],
      "metadata": {
        "id": "wfH0ehI0erUy"
      }
    },
    {
      "cell_type": "markdown",
      "source": [
        "De la Sucesión Aritmética { 3, 10, 17,… } obtener la suma de los primeros 53 términos"
      ],
      "metadata": {
        "id": "N_wi9N_0exzN"
      }
    },
    {
      "cell_type": "code",
      "source": [
        "n = 53\n",
        "a = 3\n",
        "d = 7\n",
        "S_n = 0\n",
        "for i in range(1,n+1):  \n",
        "  a_n = a + d * (i-1) \n",
        "  S_n = S_n + a_n\n",
        "print(S_n)"
      ],
      "metadata": {
        "colab": {
          "base_uri": "https://localhost:8080/"
        },
        "id": "TfeEKJYkdesO",
        "outputId": "7454398f-dba3-4030-bf72-da4172cee5c1"
      },
      "execution_count": null,
      "outputs": [
        {
          "output_type": "stream",
          "name": "stdout",
          "text": [
            "9805\n"
          ]
        }
      ]
    },
    {
      "cell_type": "code",
      "source": [
        "n*(a +a_n)/2"
      ],
      "metadata": {
        "colab": {
          "base_uri": "https://localhost:8080/"
        },
        "id": "F10HxJPLfGAp",
        "outputId": "cf4c8c99-e228-4883-d8aa-d755d44534cd"
      },
      "execution_count": null,
      "outputs": [
        {
          "output_type": "execute_result",
          "data": {
            "text/plain": [
              "9805.0"
            ]
          },
          "metadata": {},
          "execution_count": 8
        }
      ]
    },
    {
      "cell_type": "code",
      "source": [
        "S_n = 0\n",
        "Serie_S_n=[]\n",
        "Sequence_a_n =[]\n",
        "for i in range(1,n+1):  # range(n+19 goes form 1 to n\n",
        "  a_n = a + d * (i-1) \n",
        "  S_n = S_n + a_n\n",
        "  Serie_S_n.append(S_n)\n",
        "  Sequence_a_n.append(a_n)\n",
        "\n",
        "plt.plot(Sequence_a_n, color='blue',label='Sequence_a_n')\n",
        "plt.plot(Serie_S_n, color='red',label='Serie_S_n')\n",
        "plt.legend()"
      ],
      "metadata": {
        "colab": {
          "base_uri": "https://localhost:8080/",
          "height": 282
        },
        "id": "3uAa8AlkfLhJ",
        "outputId": "035c54ea-4338-4d3e-83e4-bf9717168cb8"
      },
      "execution_count": 102,
      "outputs": [
        {
          "output_type": "execute_result",
          "data": {
            "text/plain": [
              "<matplotlib.legend.Legend at 0x7f02a775b050>"
            ]
          },
          "metadata": {},
          "execution_count": 102
        },
        {
          "output_type": "display_data",
          "data": {
            "text/plain": [
              "<Figure size 432x288 with 1 Axes>"
            ],
            "image/png": "[encoded data removed]"
          },
          "metadata": {
            "needs_background": "light"
          }
        }
      ]
    },
    {
      "cell_type": "markdown",
      "metadata": {
        "id": "AKWJ1F7hac8T"
      },
      "source": [
        "# Geometric Series\n",
        "\n",
        "## Modified from Geometric Series -  [Wolfram MathWorld](https://mathworld.wolfram.com/GeometricSeries.html) - [wikipedia](https://en.wikipedia.org/wiki/Geometric_series)\n"
      ]
    },
    {
      "cell_type": "markdown",
      "metadata": {
        "id": "W5zx_-nR81GI"
      },
      "source": [
        "An geometric series is the sum of a sequence $\\{a_k\\}$ for $k=1, 2, ..., $ in which each term is computed from the previous one by adding (or subtracting) a constant $d$. \n",
        "\n",
        "\\begin{align*}\n",
        "a_0 &\\ \\ =\\ \\ r^0 \\ \\ =\\ \\ 1\\\\\n",
        "a_1 &\\ \\ =\\ \\ a_0 *  r \\ \\ =\\ \\  r\\\\\n",
        "a_2 &\\ \\ =\\ \\ a_1 * r\\ \\ =\\ \\ a_0 * r^2  \\ \\ =\\ \\ r^2 \\\\\n",
        "a_3 &\\ \\ =\\ \\ a_2 * r \\ \\ =\\ \\ a_0 * r^3 \\ \\ =\\ \\  r^3  \\\\\n",
        "a_4 &\\ \\ =\\ \\ a_3 * r\\ \\  =\\ \\ a_0 * r^4 \\ \\  =\\ \\ r^4  \\\\\n",
        "\\vdots\\\\\n",
        "a_k &\\ \\ =\\ \\ a_{(k-1)}* r \\ =\\   a_0 * r^k \\ \\  =\\ \\  r^k\n",
        "\\end{align*}\n",
        "\n",
        "The sum of the first $n$ terms  of  the geometric sequence (called an geometric serie)  is then given by\n",
        "$$\n",
        "\\begin{array}{ll}\n",
        "S_n &=  1 + r + r^2 + \\cdots + r^{n-1} +r^n \\\\\n",
        " &=  (1 + r + r^2 + \\cdots + r^{n-1} ) +r^n \\\\\n",
        " &= S_{n-1}  +r^n \n",
        "\\end{array}\n",
        "$$\n",
        "\n",
        "$$\n",
        "\\begin{array}{ll}\n",
        "S_n &=  1 + r + r^2 + \\cdots + r^{n-1} +r^n \\\\\n",
        " &=  1 + (r + r^2 + \\cdots + r^{n-1}  +r^n)  \\\\\n",
        " &=   1 + r (1 +  r  + r^2 + \\cdots + r^{n-1} )  \\\\\n",
        "  &=   1 + r   S_{n-1} \n",
        "\\end{array}\n",
        "$$\n",
        "\n",
        "Then\n",
        "$$\n",
        " S_{n-1}  +r^n =   1 + r   S_{n-1} \n",
        "$$\n",
        "\n",
        "Therefore\n",
        "$$\n",
        " S_{n-1} (1 -r)   +r^n =   1 - r^n \n",
        "$$\n",
        "\n",
        "$$\n",
        " S_{n-1}   =   \\frac{1 - r^n }{1 -r}\n",
        "$$\n",
        "\n",
        "$$\n",
        " S_{n}   =   \\frac{1 - r^{n+1} }{1 -r}  = \\frac{ r^{n+1} - 1}{r -1}\n",
        "$$\n"
      ]
    },
    {
      "cell_type": "markdown",
      "metadata": {
        "id": "CDUYfT8k8crr"
      },
      "source": [
        "## Nodes in Complete Binary Tree with $L=0,1,2,\\cdots , L-1$ levels \n",
        "\n",
        "![](https://raw.githubusercontent.com/gjhernandezp/algorithms/master/Lab7/ComBinTree.png)\n",
        "\n",
        "In a complete binary tree you have in ecah level $k =0,1,2,\\cdots $  $ 2^k $\n",
        "\n",
        "$$\n",
        "\\begin{array}{ll}\n",
        "\\text {Level } 0 \\rightarrow 2^0 = 1 \\text { node (root)} \\\\\n",
        "\\text {Level } 1 \\rightarrow 2^1 = 2 \\text { nodes} \\\\\n",
        "\\text {Level } 2 \\rightarrow 2^2 = 4 \\text { nodes} \\\\\n",
        "\\text {Level } 3 \\rightarrow 2^3 = 8 \\text { nodes} \\\\\n",
        "\\vdots\\\\\n",
        "\\text {Level } k \\rightarrow 2^k  \\text { nodes} \\\\\n",
        "\\end{array}\n",
        "$$\n",
        "\n",
        "nodes, with $l = 0,1,2, ... $ the level\n",
        "\n",
        "Total number of the complte tree with $L=0,1,2,\\cdots , L-1$ levels\n",
        "\n",
        "$$ \n",
        "2^0 + 2^1 + 2^2 + \\cdots +2^{L-1}  = 1 + 2 + 4 + \\cdots +2^{L-1} = \\sum_{k=0}^{L-1} 2^k = \\frac{ 2^{L} - 1}{2 -1} = 2^{L} - 1\n",
        "$$"
      ]
    },
    {
      "cell_type": "markdown",
      "metadata": {
        "id": "YiWlrhLZNMX9"
      },
      "source": [
        "### Code"
      ]
    },
    {
      "cell_type": "code",
      "metadata": {
        "id": "YvMkYU8UNOll",
        "colab": {
          "base_uri": "https://localhost:8080/",
          "height": 311
        },
        "outputId": "ae54d926-cddb-493a-85dd-5b21d3eeb481"
      },
      "source": [
        "\n",
        "import matplotlib.pyplot as plt\n",
        "\n",
        "a = 1\n",
        "r = 5\n",
        "length = 10\n",
        "S_n = 0\n",
        "Serie_S_n=[]\n",
        "Sequence_a_n=[]\n",
        "\n",
        "for n in range(0, length + 1):\n",
        "  S_n= S_n + r**n\n",
        "  Serie_S_n.append(S_n)\n",
        "  Sequence_a_n.append(a * r ** (n - 1))\n",
        " \n",
        "print(Sequence_a_n)\n",
        "plt.plot(Sequence_a_n, color='blue',label='Sequence_a_n')\n",
        "plt.plot(Serie_S_n, color='red',label='Serie_S_n')\n",
        "plt.legend()\n"
      ],
      "execution_count": 99,
      "outputs": [
        {
          "output_type": "stream",
          "name": "stdout",
          "text": [
            "[0.2, 1, 5, 25, 125, 625, 3125, 15625, 78125, 390625, 1953125]\n"
          ]
        },
        {
          "output_type": "execute_result",
          "data": {
            "text/plain": [
              "<matplotlib.legend.Legend at 0x7f02a78463d0>"
            ]
          },
          "metadata": {},
          "execution_count": 99
        },
        {
          "output_type": "display_data",
          "data": {
            "text/plain": [
              "<Figure size 432x288 with 1 Axes>"
            ],
            "image/png": "[encoded data removed]"
          },
          "metadata": {
            "needs_background": "light"
          }
        }
      ]
    },
    {
      "cell_type": "code",
      "source": [
        "Sequence_a_n"
      ],
      "metadata": {
        "colab": {
          "base_uri": "https://localhost:8080/"
        },
        "id": "6ra6__D0LK8g",
        "outputId": "1b6eb25f-f969-41b5-ff4d-6b331fe11213"
      },
      "execution_count": 70,
      "outputs": [
        {
          "output_type": "execute_result",
          "data": {
            "text/plain": [
              "[1, 5, 25, 125, 625, 3125, 15625, 78125, 390625, 1953125]"
            ]
          },
          "metadata": {},
          "execution_count": 70
        }
      ]
    },
    {
      "cell_type": "code",
      "source": [
        "Serie_S_n"
      ],
      "metadata": {
        "colab": {
          "base_uri": "https://localhost:8080/"
        },
        "id": "0VMMqmjJRxQz",
        "outputId": "76afcc80-879b-4810-c58f-87d9824b4477"
      },
      "execution_count": 71,
      "outputs": [
        {
          "output_type": "execute_result",
          "data": {
            "text/plain": [
              "[1, 33, 276, 1300, 4425, 12201, 29008, 61776, 120825, 220825]"
            ]
          },
          "metadata": {},
          "execution_count": 71
        }
      ]
    },
    {
      "cell_type": "code",
      "source": [
        "\n",
        "import matplotlib.pyplot as plt\n",
        "\n",
        "r = -5\n",
        "length = 10\n",
        "S_n = 0\n",
        "Serie_S_n=[]\n",
        "Sequence_a_n=[]\n",
        "\n",
        "for n in range(0, length + 1):\n",
        "  S_n= S_n + r**n\n",
        "  Serie_S_n.append(S_n)\n",
        "  Sequence_a_n.append(r**n)\n",
        " \n",
        "print(Sequence_a_n)\n",
        "plt.plot(Sequence_a_n, color='blue',label='Sequence_a_n')\n",
        "plt.plot(Serie_S_n, color='red',label='Serie_S_n')\n",
        "plt.legend()\n"
      ],
      "metadata": {
        "colab": {
          "base_uri": "https://localhost:8080/",
          "height": 311
        },
        "id": "Cet5UToyS6pZ",
        "outputId": "b297d7c4-b1ca-4490-c41e-984363c3d165"
      },
      "execution_count": 98,
      "outputs": [
        {
          "output_type": "stream",
          "name": "stdout",
          "text": [
            "[1, -5, 25, -125, 625, -3125, 15625, -78125, 390625, -1953125, 9765625]\n"
          ]
        },
        {
          "output_type": "execute_result",
          "data": {
            "text/plain": [
              "<matplotlib.legend.Legend at 0x7f02a78ca690>"
            ]
          },
          "metadata": {},
          "execution_count": 98
        },
        {
          "output_type": "display_data",
          "data": {
            "text/plain": [
              "<Figure size 432x288 with 1 Axes>"
            ],
            "image/png": "[encoded data removed]"
          },
          "metadata": {
            "needs_background": "light"
          }
        }
      ]
    },
    {
      "cell_type": "markdown",
      "metadata": {
        "id": "Dd3RWDwJe2xD"
      },
      "source": [
        "## Zenon Arrow\n",
        "\n",
        "![](https://raw.githubusercontent.com/gjhernandezp/algorithms/master/Lab7/zeno-paradox-arrow.png)\n",
        "\n",
        "https://leseditionsdeschavonnes.com/2018/10/15/the-paradox-of-achilles-and-the-tortoise/\n",
        "\n",
        "\n",
        "\n",
        "$$ \n",
        "\\lim_{n\\rightarrow \\infty} \\left\\{\\left(\\frac{1}{2}\\right)^0 + \\left(\\frac{1}{2}\\right)^1 +\\left(\\frac{1}{2}\\right)^2 + \\cdots +\\left(\\frac{1}{2}\\right)^{n} \\right\\} = \\lim_{n\\rightarrow \\infty} \\left\\{ 1 +\\frac{1}{2} + \\frac{1}{4} + \\frac{1}{8} + \\cdots +\\frac{1}{2^{n}}\\right\\}  = \\lim_{n\\rightarrow \\infty} \\sum_{k=0}^{n} \\left(\\frac{1}{2}\\right)^k = \\lim_{n\\rightarrow \\infty} \\frac{ 1- \\left(\\frac{1}{2}\\right)^n  }{1 - \\left(\\frac{1}{2}\\right) } = \\frac{ 1}{1 - \\left(\\frac{1}{2}\\right)} = 2\n",
        "$$"
      ]
    },
    {
      "cell_type": "markdown",
      "metadata": {
        "id": "R-J4EekBNPkd"
      },
      "source": [
        "### Code"
      ]
    },
    {
      "cell_type": "code",
      "metadata": {
        "id": "8xdBovY3NEW_",
        "colab": {
          "base_uri": "https://localhost:8080/",
          "height": 282
        },
        "outputId": "cdc4c91a-d030-4672-ac1f-67a8115c2485"
      },
      "source": [
        "import matplotlib.pyplot as plt\n",
        "\n",
        "length = 40  #n in paradox\n",
        "S_n = 0\n",
        "Serie_S_n=[]\n",
        "Sequence_a_n=[]\n",
        "\n",
        "for n in range(0, length):\n",
        "  S_n= S_n + (1/2)**(n)\n",
        "  Serie_S_n.append(S_n)\n",
        "  Sequence_a_n.append(n)\n",
        "\n",
        "plt.plot(Sequence_a_n, color='blue',label='Sequence_a_n')\n",
        "plt.plot(Serie_S_n, color='red',label='Serie_S_n')\n",
        "plt.legend()\n"
      ],
      "execution_count": 104,
      "outputs": [
        {
          "output_type": "execute_result",
          "data": {
            "text/plain": [
              "<matplotlib.legend.Legend at 0x7f02a76a7a10>"
            ]
          },
          "metadata": {},
          "execution_count": 104
        },
        {
          "output_type": "display_data",
          "data": {
            "text/plain": [
              "<Figure size 432x288 with 1 Axes>"
            ],
            "image/png": "[encoded data removed]"
          },
          "metadata": {
            "needs_background": "light"
          }
        }
      ]
    },
    {
      "cell_type": "code",
      "source": [
        "Serie_S_n"
      ],
      "metadata": {
        "colab": {
          "base_uri": "https://localhost:8080/"
        },
        "id": "dF_iKAi6WyGV",
        "outputId": "988ed0b4-93ad-4e86-e53b-f0bdf2442bea"
      },
      "execution_count": 106,
      "outputs": [
        {
          "output_type": "execute_result",
          "data": {
            "text/plain": [
              "[1.0,\n",
              " 1.5,\n",
              " 1.75,\n",
              " 1.875,\n",
              " 1.9375,\n",
              " 1.96875,\n",
              " 1.984375,\n",
              " 1.9921875,\n",
              " 1.99609375,\n",
              " 1.998046875,\n",
              " 1.9990234375,\n",
              " 1.99951171875,\n",
              " 1.999755859375,\n",
              " 1.9998779296875,\n",
              " 1.99993896484375,\n",
              " 1.999969482421875,\n",
              " 1.9999847412109375,\n",
              " 1.9999923706054688,\n",
              " 1.9999961853027344,\n",
              " 1.9999980926513672,\n",
              " 1.9999990463256836,\n",
              " 1.9999995231628418,\n",
              " 1.999999761581421,\n",
              " 1.9999998807907104,\n",
              " 1.9999999403953552,\n",
              " 1.9999999701976776,\n",
              " 1.9999999850988388,\n",
              " 1.9999999925494194,\n",
              " 1.9999999962747097,\n",
              " 1.9999999981373549,\n",
              " 1.9999999990686774,\n",
              " 1.9999999995343387,\n",
              " 1.9999999997671694,\n",
              " 1.9999999998835847,\n",
              " 1.9999999999417923,\n",
              " 1.9999999999708962,\n",
              " 1.999999999985448,\n",
              " 1.999999999992724,\n",
              " 1.999999999996362,\n",
              " 1.999999999998181]"
            ]
          },
          "metadata": {},
          "execution_count": 106
        }
      ]
    },
    {
      "cell_type": "markdown",
      "metadata": {
        "id": "dh2ntBeoNQlN"
      },
      "source": [
        "# Power Sums Power Sums - [Wolfram MathWorld](https://mathworld.wolfram.com/PowerSum.html) - [wikipedia](https://en.wikipedia.org/wiki/Sums_of_powers) - [reserachgate](https://www.researchgate.net/publication/331933608_The_Powers_Sums_Bernoulli_Numbers_Bernoulli_Polynomials_Rethinked)\n",
        "\n"
      ]
    },
    {
      "cell_type": "code",
      "metadata": {
        "id": "2PyxzzOZVIdl",
        "colab": {
          "base_uri": "https://localhost:8080/",
          "height": 282
        },
        "outputId": "00c97a1e-e89a-4ee3-890d-3d98cb0d24ac"
      },
      "source": [
        "import matplotlib.pyplot as plt\n",
        "\n",
        "length = 10 \n",
        "S_n = 0\n",
        "Serie_S_n=[]\n",
        "Sequence_a_n=[]\n",
        "\n",
        "for n in range(0, length+1):\n",
        "  S_n= S_n + n**4\n",
        "  Serie_S_n.append(S_n)\n",
        "  Sequence_a_n.append(n)\n",
        "\n",
        "plt.plot(Sequence_a_n, color='blue',label='Sequence_a_n')\n",
        "plt.plot(Serie_S_n, color='red',label='Serie_S_n')\n",
        "plt.legend()"
      ],
      "execution_count": 109,
      "outputs": [
        {
          "output_type": "execute_result",
          "data": {
            "text/plain": [
              "<matplotlib.legend.Legend at 0x7f02a7eea550>"
            ]
          },
          "metadata": {},
          "execution_count": 109
        },
        {
          "output_type": "display_data",
          "data": {
            "text/plain": [
              "<Figure size 432x288 with 1 Axes>"
            ],
            "image/png": "[encoded data removed]"
          },
          "metadata": {
            "needs_background": "light"
          }
        }
      ]
    },
    {
      "cell_type": "code",
      "source": [
        "import matplotlib.pyplot as plt\n",
        "\n",
        "length = 10 \n",
        "S_n = 0\n",
        "Serie_S_n=[]\n",
        "Sequence_a_n=[]\n",
        "\n",
        "for n in range(0, length+1):\n",
        "  S_n= S_n + n**8\n",
        "  Serie_S_n.append(S_n)\n",
        "  Sequence_a_n.append(n)\n",
        "\n",
        "plt.plot(Sequence_a_n, color='blue',label='Sequence_a_n')\n",
        "plt.plot(Serie_S_n, color='red',label='Serie_S_n')\n",
        "plt.legend()"
      ],
      "metadata": {
        "colab": {
          "base_uri": "https://localhost:8080/",
          "height": 293
        },
        "id": "PkLCwfzWXT2I",
        "outputId": "ca4bb0b8-fe35-49ff-8344-e17e07d8a2b4"
      },
      "execution_count": 112,
      "outputs": [
        {
          "output_type": "execute_result",
          "data": {
            "text/plain": [
              "<matplotlib.legend.Legend at 0x7f02a73c9d50>"
            ]
          },
          "metadata": {},
          "execution_count": 112
        },
        {
          "output_type": "display_data",
          "data": {
            "text/plain": [
              "<Figure size 432x288 with 1 Axes>"
            ],
            "image/png": "[encoded data removed]"
          },
          "metadata": {
            "needs_background": "light"
          }
        }
      ]
    }
  ]
}