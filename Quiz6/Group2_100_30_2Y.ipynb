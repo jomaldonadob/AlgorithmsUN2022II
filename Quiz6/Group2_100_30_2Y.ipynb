{
 "cells": [
  {
   "cell_type": "markdown",
   "metadata": {
    "id": "p9XXgZQl1vM5",
    "pycharm": {
     "name": "#%% md\n"
    }
   },
   "source": [
    "# Group2_100_30_2Y"
   ]
  },
  {
   "cell_type": "code",
   "execution_count": 2,
   "metadata": {
    "colab": {
     "referenced_widgets": [
      "48a45a7191984642adb5e18beb93af9e"
     ]
    },
    "id": "ed-V_gKN1vM9",
    "outputId": "fa6c024a-c5ee-4ede-e3d7-787d3250a364",
    "pycharm": {
     "is_executing": true,
     "name": "#%%\n"
    }
   },
   "outputs": [
    {
     "name": "stdout",
     "output_type": "stream",
     "text": [
      "Run last pass...\n",
      "Load data...\n"
     ]
    },
    {
     "name": "stderr",
     "output_type": "stream",
     "text": [
      "100% (17054 of 17054) |##################| Elapsed Time: 0:00:00 Time:  0:00:00\n",
      "100% (2019040 of 2019040) |##############| Elapsed Time: 0:00:00 Time:  0:00:00\n"
     ]
    },
    {
     "name": "stdout",
     "output_type": "stream",
     "text": [
      "fetched chunk 1/1 1s\n",
      "Data loaded 1s\n",
      "Run strategy...\n",
      "Load data for cleanup...\n"
     ]
    },
    {
     "name": "stderr",
     "output_type": "stream",
     "text": [
      "100% (308232 of 308232) |################| Elapsed Time: 0:00:00 Time:  0:00:00\n"
     ]
    },
    {
     "name": "stdout",
     "output_type": "stream",
     "text": [
      "fetched chunk 1/1 1s\n",
      "Data loaded 1s\n",
      "Output cleaning...\n",
      "fix uniq\n",
      "ffill if the current price is None...\n",
      "Check liquidity...\n",
      "Ok.\n",
      "Check missed dates...\n",
      "Ok.\n",
      "Normalization...\n",
      "Output cleaning is complete.\n",
      "Write result...\n",
      "Write output: /root/fractions.nc.gz\n",
      "---\n",
      "Run first pass...\n",
      "Load data...\n"
     ]
    },
    {
     "name": "stderr",
     "output_type": "stream",
     "text": [
      "100% (17660 of 17660) |##################| Elapsed Time: 0:00:00 Time:  0:00:00\n",
      "100% (2089648 of 2089648) |##############| Elapsed Time: 0:00:00 Time:  0:00:00\n"
     ]
    },
    {
     "name": "stdout",
     "output_type": "stream",
     "text": [
      "fetched chunk 1/1 1s\n",
      "Data loaded 1s\n",
      "Run strategy...\n",
      "---\n",
      "Load full data...\n"
     ]
    },
    {
     "name": "stderr",
     "output_type": "stream",
     "text": [
      "100% (20504 of 20504) |##################| Elapsed Time: 0:00:00 Time:  0:00:00\n",
      "100% (7328196 of 7328196) |##############| Elapsed Time: 0:00:00 Time:  0:00:00\n"
     ]
    },
    {
     "name": "stdout",
     "output_type": "stream",
     "text": [
      "fetched chunk 1/1 2s\n",
      "Data loaded 2s\n",
      "---\n",
      "Run iterations...\n",
      "\n"
     ]
    },
    {
     "name": "stderr",
     "output_type": "stream",
     "text": [
      "100% (507 of 507) |######################| Elapsed Time: 0:00:04 Time:  0:00:04\n"
     ]
    },
    {
     "name": "stdout",
     "output_type": "stream",
     "text": [
      "Merge outputs...\n",
      "Load data for cleanup and analysis...\n"
     ]
    },
    {
     "name": "stderr",
     "output_type": "stream",
     "text": [
      "100% (20504 of 20504) |##################| Elapsed Time: 0:00:00 Time:  0:00:00\n",
      "100% (7743232 of 7743232) |##############| Elapsed Time: 0:00:00 Time:  0:00:00\n"
     ]
    },
    {
     "name": "stdout",
     "output_type": "stream",
     "text": [
      "fetched chunk 1/1 2s\n",
      "Data loaded 2s\n",
      "Output cleaning...\n",
      "fix uniq\n",
      "ffill if the current price is None...\n",
      "Check liquidity...\n",
      "Ok.\n",
      "Check missed dates...\n",
      "Ok.\n",
      "Normalization...\n",
      "Output cleaning is complete.\n",
      "Write result...\n",
      "Write output: /root/fractions.nc.gz\n",
      "---\n",
      "Analyze results...\n",
      "Check...\n",
      "Check liquidity...\n",
      "Ok.\n",
      "Check missed dates...\n",
      "Ok.\n",
      "Check the sharpe ratio...\n"
     ]
    },
    {
     "name": "stderr",
     "output_type": "stream",
     "text": [
      "WARNING! There are not enough points in the data\n",
      "The first point(2019-08-12) should be earlier than 2006-01-01\n",
      "Load data more historical data.\n",
      "WARNING! There are not enough points in the output.\n",
      "The output series should start from 2006-01-01 or earlier instead of 2020-10-12\n"
     ]
    },
    {
     "name": "stdout",
     "output_type": "stream",
     "text": [
      "Period: 2019-08-12 - 2022-10-14\n",
      "Sharpe Ratio = -0.03876244012410008\n"
     ]
    },
    {
     "name": "stderr",
     "output_type": "stream",
     "text": [
      "ERROR! The Sharpe Ratio is too low. -0.03876244012410008 < 1\n",
      "Improve the strategy and make sure that the in-sample Sharpe Ratio more than 1.\n"
     ]
    },
    {
     "name": "stdout",
     "output_type": "stream",
     "text": [
      "Check correlation.\n",
      "\n",
      "Ok. This strategy does not correlate with other strategies.\n",
      "---\n",
      "Align...\n",
      "Calc global stats...\n",
      "---\n",
      "Calc stats per asset...\n",
      "Build plots...\n",
      "---\n",
      "Select the asset (or leave blank to display the overall stats):\n"
     ]
    },
    {
     "data": {
      "application/vnd.jupyter.widget-view+json": {
       "model_id": "88322b7043994dbbb6f6ec86e2b3d0bf",
       "version_major": 2,
       "version_minor": 0
      },
      "text/plain": [
       "interactive(children=(Combobox(value='', description='asset', options=('', 'NAS:AAL', 'NAS:AAPL', 'NAS:ABNB', …"
      ]
     },
     "metadata": {},
     "output_type": "display_data"
    }
   ],
   "source": [
    "import xarray as xr\n",
    "\n",
    "import qnt.ta as qnta\n",
    "import qnt.backtester as qnbt\n",
    "import qnt.data as qndata\n",
    "\n",
    "def load_data(period):\n",
    "    return qndata.stocks.load_ndx_data(tail=period)\n",
    "\n",
    "\n",
    "\n",
    "def strategy(data):\n",
    "    close     = data.sel(field=\"close\")\n",
    "    is_liquid = data.sel(field=\"is_liquid\")\n",
    "    sma_slow  = qnta.sma(close, 100).isel(time=-1)\n",
    "    sma_fast  = qnta.sma(close, 30).isel(time=-1)\n",
    "    weights   = xr.where(sma_slow < sma_fast, 1, -1)\n",
    "    weights   = weights * is_liquid\n",
    "    return weights\n",
    "\n",
    "\n",
    "\n",
    "weights = qnbt.backtest(\n",
    "    competition_type = \"stocks_nasdaq100\",\n",
    "    load_data        = load_data,\n",
    "    lookback_period  = 365*4,\n",
    "    start_date       = \"2020-10-10\",\n",
    "    strategy         = strategy,\n",
    "    analyze          = True,\n",
    "    build_plots      = True\n",
    ")"
   ]
  }
 ],
 "metadata": {
  "colab": {
   "collapsed_sections": [],
   "provenance": []
  },
  "kernelspec": {
   "display_name": "Python 3",
   "language": "python",
   "name": "python3"
  },
  "language_info": {
   "codemirror_mode": {
    "name": "ipython",
    "version": 3
   },
   "file_extension": ".py",
   "mimetype": "text/x-python",
   "name": "python",
   "nbconvert_exporter": "python",
   "pygments_lexer": "ipython3",
   "version": "3.7.6"
  }
 },
 "nbformat": 4,
 "nbformat_minor": 1
}
